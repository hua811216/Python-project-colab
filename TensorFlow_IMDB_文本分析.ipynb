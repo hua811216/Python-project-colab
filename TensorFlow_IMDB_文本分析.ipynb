{
  "nbformat": 4,
  "nbformat_minor": 0,
  "metadata": {
    "colab": {
      "name": "TensorFlow-IMDB -文本分析.ipynb",
      "provenance": [],
      "collapsed_sections": [],
      "authorship_tag": "ABX9TyOCMTznhMD2rWzYSOXoQPXI",
      "include_colab_link": true
    },
    "kernelspec": {
      "name": "python3",
      "display_name": "Python 3"
    },
    "language_info": {
      "name": "python"
    }
  },
  "cells": [
    {
      "cell_type": "markdown",
      "metadata": {
        "id": "view-in-github",
        "colab_type": "text"
      },
      "source": [
        "<a href=\"https://colab.research.google.com/github/hua811216/python-project/blob/master/TensorFlow_IMDB_%E6%96%87%E6%9C%AC%E5%88%86%E6%9E%90.ipynb\" target=\"_parent\"><img src=\"https://colab.research.google.com/assets/colab-badge.svg\" alt=\"Open In Colab\"/></a>"
      ]
    },
    {
      "cell_type": "code",
      "metadata": {
        "colab": {
          "base_uri": "https://localhost:8080/"
        },
        "id": "KivEGB4WSUCT",
        "outputId": "4cea0b9e-dd34-499a-beb4-0d3b54a5c660"
      },
      "source": [
        "import tensorflow as tf\n",
        "from tensorflow import keras\n",
        "\n",
        "import numpy as np\n",
        "\n",
        "print(tf.__version__)"
      ],
      "execution_count": 1,
      "outputs": [
        {
          "output_type": "stream",
          "name": "stdout",
          "text": [
            "2.6.0\n"
          ]
        }
      ]
    },
    {
      "cell_type": "code",
      "metadata": {
        "colab": {
          "base_uri": "https://localhost:8080/"
        },
        "id": "lbvPFjxKSpF5",
        "outputId": "c068856b-ac4f-483a-cc18-0c7912f78f3b"
      },
      "source": [
        "imdb = keras.datasets.imdb\n",
        "\n",
        "(train_data, train_labels), (test_data, test_labels) = imdb.load_data(num_words=10000)"
      ],
      "execution_count": 2,
      "outputs": [
        {
          "output_type": "stream",
          "name": "stdout",
          "text": [
            "Downloading data from https://storage.googleapis.com/tensorflow/tf-keras-datasets/imdb.npz\n",
            "17465344/17464789 [==============================] - 0s 0us/step\n",
            "17473536/17464789 [==============================] - 0s 0us/step\n"
          ]
        }
      ]
    },
    {
      "cell_type": "markdown",
      "metadata": {
        "id": "KttOkH1cSv8Y"
      },
      "source": [
        "# Data describtion"
      ]
    },
    {
      "cell_type": "code",
      "metadata": {
        "colab": {
          "base_uri": "https://localhost:8080/"
        },
        "id": "26Q7-9iRS96R",
        "outputId": "abb8dd20-1f1b-4d7e-85cb-4f4b305a0b5d"
      },
      "source": [
        "print(\"Training entries: {}, labels: {}\".format(len(train_data), len(train_labels)))"
      ],
      "execution_count": 3,
      "outputs": [
        {
          "output_type": "stream",
          "name": "stdout",
          "text": [
            "Training entries: 25000, labels: 25000\n"
          ]
        }
      ]
    },
    {
      "cell_type": "markdown",
      "metadata": {
        "id": "4stP0a03TS-y"
      },
      "source": [
        "把文本中的每一個詞，轉換成整數(1-10000)。"
      ]
    },
    {
      "cell_type": "code",
      "metadata": {
        "colab": {
          "base_uri": "https://localhost:8080/"
        },
        "id": "xKJf4eNFTA0v",
        "outputId": "1d8b7c02-1306-498e-8a13-52634e785aaa"
      },
      "source": [
        "print(train_data[0])"
      ],
      "execution_count": 4,
      "outputs": [
        {
          "output_type": "stream",
          "name": "stdout",
          "text": [
            "[1, 14, 22, 16, 43, 530, 973, 1622, 1385, 65, 458, 4468, 66, 3941, 4, 173, 36, 256, 5, 25, 100, 43, 838, 112, 50, 670, 2, 9, 35, 480, 284, 5, 150, 4, 172, 112, 167, 2, 336, 385, 39, 4, 172, 4536, 1111, 17, 546, 38, 13, 447, 4, 192, 50, 16, 6, 147, 2025, 19, 14, 22, 4, 1920, 4613, 469, 4, 22, 71, 87, 12, 16, 43, 530, 38, 76, 15, 13, 1247, 4, 22, 17, 515, 17, 12, 16, 626, 18, 2, 5, 62, 386, 12, 8, 316, 8, 106, 5, 4, 2223, 5244, 16, 480, 66, 3785, 33, 4, 130, 12, 16, 38, 619, 5, 25, 124, 51, 36, 135, 48, 25, 1415, 33, 6, 22, 12, 215, 28, 77, 52, 5, 14, 407, 16, 82, 2, 8, 4, 107, 117, 5952, 15, 256, 4, 2, 7, 3766, 5, 723, 36, 71, 43, 530, 476, 26, 400, 317, 46, 7, 4, 2, 1029, 13, 104, 88, 4, 381, 15, 297, 98, 32, 2071, 56, 26, 141, 6, 194, 7486, 18, 4, 226, 22, 21, 134, 476, 26, 480, 5, 144, 30, 5535, 18, 51, 36, 28, 224, 92, 25, 104, 4, 226, 65, 16, 38, 1334, 88, 12, 16, 283, 5, 16, 4472, 113, 103, 32, 15, 16, 5345, 19, 178, 32]\n"
          ]
        }
      ]
    },
    {
      "cell_type": "markdown",
      "metadata": {
        "id": "rcS3AFVaUQ8g"
      },
      "source": [
        "將整數轉換回單詞。\n",
        "這裡創建一個輔助函數來查詢一個包含了整數到字符串映射的字典對象："
      ]
    },
    {
      "cell_type": "code",
      "metadata": {
        "colab": {
          "base_uri": "https://localhost:8080/"
        },
        "id": "RKisDH9LUHQx",
        "outputId": "75182f90-a19a-4b7e-c011-f96ca215ebac"
      },
      "source": [
        "word_index = imdb.get_word_index()\n",
        "\n",
        "\n",
        "word_index = {k:(v+3) for k,v in word_index.items()}\n",
        "word_index[\"<PAD>\"] = 0\n",
        "word_index[\"<START>\"] = 1\n",
        "word_index[\"<UNK>\"] = 2  # unknown\n",
        "word_index[\"<UNUSED>\"] = 3\n",
        "\n",
        "reverse_word_index = dict([(value, key) for (key, value) in word_index.items()])\n",
        "\n",
        "def decode_review(text):\n",
        "    return ' '.join([reverse_word_index.get(i, '?') for i in text])"
      ],
      "execution_count": 5,
      "outputs": [
        {
          "output_type": "stream",
          "name": "stdout",
          "text": [
            "Downloading data from https://storage.googleapis.com/tensorflow/tf-keras-datasets/imdb_word_index.json\n",
            "1646592/1641221 [==============================] - 0s 0us/step\n",
            "1654784/1641221 [==============================] - 0s 0us/step\n"
          ]
        }
      ]
    },
    {
      "cell_type": "code",
      "metadata": {
        "colab": {
          "base_uri": "https://localhost:8080/",
          "height": 137
        },
        "id": "Y0kmF-FgUjWc",
        "outputId": "fe7ab4a8-2cf1-4cf3-b3d5-f07587866b12"
      },
      "source": [
        "decode_review(train_data[0])"
      ],
      "execution_count": 6,
      "outputs": [
        {
          "output_type": "execute_result",
          "data": {
            "application/vnd.google.colaboratory.intrinsic+json": {
              "type": "string"
            },
            "text/plain": [
              "\"<START> this film was just brilliant casting location scenery story direction everyone's really suited the part they played and you could just imagine being there robert <UNK> is an amazing actor and now the same being director <UNK> father came from the same scottish island as myself so i loved the fact there was a real connection with this film the witty remarks throughout the film were great it was just brilliant so much that i bought the film as soon as it was released for <UNK> and would recommend it to everyone to watch and the fly fishing was amazing really cried at the end it was so sad and you know what they say if you cry at a film it must have been good and this definitely was also <UNK> to the two little boy's that played the <UNK> of norman and paul they were just brilliant children are often left out of the <UNK> list i think because the stars that play them all grown up are such a big profile for the whole film but these children are amazing and should be praised for what they have done don't you think the whole story was so lovely because it was true and was someone's life after all that was shared with us all\""
            ]
          },
          "metadata": {},
          "execution_count": 6
        }
      ]
    },
    {
      "cell_type": "markdown",
      "metadata": {
        "id": "saKwm5uzgtdT"
      },
      "source": [
        "# data preprocess"
      ]
    },
    {
      "cell_type": "code",
      "metadata": {
        "id": "8eQd3Lgjgw8t"
      },
      "source": [
        "train_data = keras.preprocessing.sequence.pad_sequences(train_data,\n",
        "                             value=word_index[\"<PAD>\"],\n",
        "                             padding='post',\n",
        "                             maxlen=256)\n",
        "\n",
        "test_data = keras.preprocessing.sequence.pad_sequences(test_data,\n",
        "                             value=word_index[\"<PAD>\"],\n",
        "                             padding='post',\n",
        "                             maxlen=256)"
      ],
      "execution_count": 7,
      "outputs": []
    },
    {
      "cell_type": "code",
      "metadata": {
        "colab": {
          "base_uri": "https://localhost:8080/"
        },
        "id": "Ny5vMKTng89h",
        "outputId": "ae96df71-3d91-49d6-ad49-f20feedf7eeb"
      },
      "source": [
        "len(train_data[0]), len(train_data[1])"
      ],
      "execution_count": 8,
      "outputs": [
        {
          "output_type": "execute_result",
          "data": {
            "text/plain": [
              "(256, 256)"
            ]
          },
          "metadata": {},
          "execution_count": 8
        }
      ]
    },
    {
      "cell_type": "code",
      "metadata": {
        "colab": {
          "base_uri": "https://localhost:8080/"
        },
        "id": "bdDS3X7pg_TM",
        "outputId": "c65de81a-dae7-4dbf-8833-599191a6f0eb"
      },
      "source": [
        "print(train_data[0])"
      ],
      "execution_count": 9,
      "outputs": [
        {
          "output_type": "stream",
          "name": "stdout",
          "text": [
            "[   1   14   22   16   43  530  973 1622 1385   65  458 4468   66 3941\n",
            "    4  173   36  256    5   25  100   43  838  112   50  670    2    9\n",
            "   35  480  284    5  150    4  172  112  167    2  336  385   39    4\n",
            "  172 4536 1111   17  546   38   13  447    4  192   50   16    6  147\n",
            " 2025   19   14   22    4 1920 4613  469    4   22   71   87   12   16\n",
            "   43  530   38   76   15   13 1247    4   22   17  515   17   12   16\n",
            "  626   18    2    5   62  386   12    8  316    8  106    5    4 2223\n",
            " 5244   16  480   66 3785   33    4  130   12   16   38  619    5   25\n",
            "  124   51   36  135   48   25 1415   33    6   22   12  215   28   77\n",
            "   52    5   14  407   16   82    2    8    4  107  117 5952   15  256\n",
            "    4    2    7 3766    5  723   36   71   43  530  476   26  400  317\n",
            "   46    7    4    2 1029   13  104   88    4  381   15  297   98   32\n",
            " 2071   56   26  141    6  194 7486   18    4  226   22   21  134  476\n",
            "   26  480    5  144   30 5535   18   51   36   28  224   92   25  104\n",
            "    4  226   65   16   38 1334   88   12   16  283    5   16 4472  113\n",
            "  103   32   15   16 5345   19  178   32    0    0    0    0    0    0\n",
            "    0    0    0    0    0    0    0    0    0    0    0    0    0    0\n",
            "    0    0    0    0    0    0    0    0    0    0    0    0    0    0\n",
            "    0    0    0    0]\n"
          ]
        }
      ]
    },
    {
      "cell_type": "markdown",
      "metadata": {
        "id": "teBMRgPIhnFw"
      },
      "source": [
        "# Modle building"
      ]
    },
    {
      "cell_type": "code",
      "metadata": {
        "colab": {
          "base_uri": "https://localhost:8080/"
        },
        "id": "ZK0xkSAghql3",
        "outputId": "8ab32c9f-849d-4f03-b3c4-7f896122fd6c"
      },
      "source": [
        "vocab_size = 10000\n",
        "\n",
        "model = keras.Sequential()\n",
        "model.add(keras.layers.Embedding(vocab_size, 16))\n",
        "model.add(keras.layers.GlobalAveragePooling1D())\n",
        "model.add(keras.layers.Dense(16, activation='relu'))\n",
        "model.add(keras.layers.Dense(1, activation='sigmoid'))\n",
        "\n",
        "model.summary()"
      ],
      "execution_count": 10,
      "outputs": [
        {
          "output_type": "stream",
          "name": "stdout",
          "text": [
            "Model: \"sequential\"\n",
            "_________________________________________________________________\n",
            "Layer (type)                 Output Shape              Param #   \n",
            "=================================================================\n",
            "embedding (Embedding)        (None, None, 16)          160000    \n",
            "_________________________________________________________________\n",
            "global_average_pooling1d (Gl (None, 16)                0         \n",
            "_________________________________________________________________\n",
            "dense (Dense)                (None, 16)                272       \n",
            "_________________________________________________________________\n",
            "dense_1 (Dense)              (None, 1)                 17        \n",
            "=================================================================\n",
            "Total params: 160,289\n",
            "Trainable params: 160,289\n",
            "Non-trainable params: 0\n",
            "_________________________________________________________________\n"
          ]
        }
      ]
    },
    {
      "cell_type": "code",
      "metadata": {
        "id": "XTnYDScWht1a"
      },
      "source": [
        "model.compile(optimizer='adam',\n",
        "       loss='binary_crossentropy',\n",
        "       metrics=['accuracy'])"
      ],
      "execution_count": 11,
      "outputs": []
    },
    {
      "cell_type": "markdown",
      "metadata": {
        "id": "NHSQP22-hyfn"
      },
      "source": [
        "# Create validation data"
      ]
    },
    {
      "cell_type": "code",
      "metadata": {
        "id": "-bLqzuXnh4d0"
      },
      "source": [
        "x_val = train_data[:10000]\n",
        "partial_x_train = train_data[10000:]\n",
        "\n",
        "y_val = train_labels[:10000]\n",
        "partial_y_train = train_labels[10000:]"
      ],
      "execution_count": 12,
      "outputs": []
    },
    {
      "cell_type": "markdown",
      "metadata": {
        "id": "lKxvXBGbh8ZW"
      },
      "source": [
        "# Training model"
      ]
    },
    {
      "cell_type": "code",
      "metadata": {
        "colab": {
          "base_uri": "https://localhost:8080/"
        },
        "id": "k2Q7j9aJh_No",
        "outputId": "aac959b0-1c82-41fd-de87-6749adcb78a1"
      },
      "source": [
        "history = model.fit(partial_x_train,\n",
        "           partial_y_train,\n",
        "           epochs=40,\n",
        "           batch_size=512,\n",
        "           validation_data=(x_val, y_val),\n",
        "           verbose=1)"
      ],
      "execution_count": 13,
      "outputs": [
        {
          "output_type": "stream",
          "name": "stdout",
          "text": [
            "Epoch 1/40\n",
            "30/30 [==============================] - 2s 34ms/step - loss: 0.6916 - accuracy: 0.5661 - val_loss: 0.6892 - val_accuracy: 0.6386\n",
            "Epoch 2/40\n",
            "30/30 [==============================] - 1s 19ms/step - loss: 0.6843 - accuracy: 0.6976 - val_loss: 0.6791 - val_accuracy: 0.6872\n",
            "Epoch 3/40\n",
            "30/30 [==============================] - 1s 18ms/step - loss: 0.6676 - accuracy: 0.7389 - val_loss: 0.6578 - val_accuracy: 0.7502\n",
            "Epoch 4/40\n",
            "30/30 [==============================] - 1s 18ms/step - loss: 0.6382 - accuracy: 0.7701 - val_loss: 0.6248 - val_accuracy: 0.7712\n",
            "Epoch 5/40\n",
            "30/30 [==============================] - 1s 18ms/step - loss: 0.5973 - accuracy: 0.7949 - val_loss: 0.5829 - val_accuracy: 0.7851\n",
            "Epoch 6/40\n",
            "30/30 [==============================] - 1s 18ms/step - loss: 0.5483 - accuracy: 0.8164 - val_loss: 0.5368 - val_accuracy: 0.8087\n",
            "Epoch 7/40\n",
            "30/30 [==============================] - 1s 18ms/step - loss: 0.4970 - accuracy: 0.8377 - val_loss: 0.4914 - val_accuracy: 0.8259\n",
            "Epoch 8/40\n",
            "30/30 [==============================] - 1s 18ms/step - loss: 0.4481 - accuracy: 0.8556 - val_loss: 0.4503 - val_accuracy: 0.8410\n",
            "Epoch 9/40\n",
            "30/30 [==============================] - 1s 18ms/step - loss: 0.4049 - accuracy: 0.8699 - val_loss: 0.4159 - val_accuracy: 0.8518\n",
            "Epoch 10/40\n",
            "30/30 [==============================] - 1s 19ms/step - loss: 0.3687 - accuracy: 0.8806 - val_loss: 0.3887 - val_accuracy: 0.8550\n",
            "Epoch 11/40\n",
            "30/30 [==============================] - 1s 19ms/step - loss: 0.3384 - accuracy: 0.8867 - val_loss: 0.3665 - val_accuracy: 0.8633\n",
            "Epoch 12/40\n",
            "30/30 [==============================] - 1s 18ms/step - loss: 0.3131 - accuracy: 0.8953 - val_loss: 0.3487 - val_accuracy: 0.8697\n",
            "Epoch 13/40\n",
            "30/30 [==============================] - 1s 19ms/step - loss: 0.2921 - accuracy: 0.9023 - val_loss: 0.3355 - val_accuracy: 0.8714\n",
            "Epoch 14/40\n",
            "30/30 [==============================] - 1s 19ms/step - loss: 0.2740 - accuracy: 0.9055 - val_loss: 0.3248 - val_accuracy: 0.8737\n",
            "Epoch 15/40\n",
            "30/30 [==============================] - 1s 18ms/step - loss: 0.2577 - accuracy: 0.9117 - val_loss: 0.3154 - val_accuracy: 0.8777\n",
            "Epoch 16/40\n",
            "30/30 [==============================] - 1s 18ms/step - loss: 0.2432 - accuracy: 0.9166 - val_loss: 0.3085 - val_accuracy: 0.8772\n",
            "Epoch 17/40\n",
            "30/30 [==============================] - 1s 19ms/step - loss: 0.2306 - accuracy: 0.9208 - val_loss: 0.3024 - val_accuracy: 0.8791\n",
            "Epoch 18/40\n",
            "30/30 [==============================] - 1s 18ms/step - loss: 0.2184 - accuracy: 0.9254 - val_loss: 0.2980 - val_accuracy: 0.8813\n",
            "Epoch 19/40\n",
            "30/30 [==============================] - 1s 19ms/step - loss: 0.2079 - accuracy: 0.9291 - val_loss: 0.2938 - val_accuracy: 0.8835\n",
            "Epoch 20/40\n",
            "30/30 [==============================] - 1s 19ms/step - loss: 0.1979 - accuracy: 0.9328 - val_loss: 0.2909 - val_accuracy: 0.8836\n",
            "Epoch 21/40\n",
            "30/30 [==============================] - 1s 19ms/step - loss: 0.1886 - accuracy: 0.9377 - val_loss: 0.2890 - val_accuracy: 0.8838\n",
            "Epoch 22/40\n",
            "30/30 [==============================] - 1s 20ms/step - loss: 0.1805 - accuracy: 0.9394 - val_loss: 0.2868 - val_accuracy: 0.8839\n",
            "Epoch 23/40\n",
            "30/30 [==============================] - 1s 19ms/step - loss: 0.1721 - accuracy: 0.9445 - val_loss: 0.2862 - val_accuracy: 0.8833\n",
            "Epoch 24/40\n",
            "30/30 [==============================] - 1s 18ms/step - loss: 0.1642 - accuracy: 0.9476 - val_loss: 0.2857 - val_accuracy: 0.8854\n",
            "Epoch 25/40\n",
            "30/30 [==============================] - 1s 18ms/step - loss: 0.1571 - accuracy: 0.9507 - val_loss: 0.2853 - val_accuracy: 0.8855\n",
            "Epoch 26/40\n",
            "30/30 [==============================] - 1s 18ms/step - loss: 0.1507 - accuracy: 0.9539 - val_loss: 0.2859 - val_accuracy: 0.8843\n",
            "Epoch 27/40\n",
            "30/30 [==============================] - 1s 18ms/step - loss: 0.1443 - accuracy: 0.9560 - val_loss: 0.2872 - val_accuracy: 0.8850\n",
            "Epoch 28/40\n",
            "30/30 [==============================] - 1s 19ms/step - loss: 0.1380 - accuracy: 0.9584 - val_loss: 0.2872 - val_accuracy: 0.8859\n",
            "Epoch 29/40\n",
            "30/30 [==============================] - 1s 19ms/step - loss: 0.1324 - accuracy: 0.9611 - val_loss: 0.2884 - val_accuracy: 0.8862\n",
            "Epoch 30/40\n",
            "30/30 [==============================] - 1s 18ms/step - loss: 0.1268 - accuracy: 0.9626 - val_loss: 0.2900 - val_accuracy: 0.8862\n",
            "Epoch 31/40\n",
            "30/30 [==============================] - 1s 19ms/step - loss: 0.1224 - accuracy: 0.9653 - val_loss: 0.2945 - val_accuracy: 0.8839\n",
            "Epoch 32/40\n",
            "30/30 [==============================] - 1s 19ms/step - loss: 0.1175 - accuracy: 0.9663 - val_loss: 0.2944 - val_accuracy: 0.8850\n",
            "Epoch 33/40\n",
            "30/30 [==============================] - 1s 19ms/step - loss: 0.1120 - accuracy: 0.9691 - val_loss: 0.2964 - val_accuracy: 0.8854\n",
            "Epoch 34/40\n",
            "30/30 [==============================] - 1s 19ms/step - loss: 0.1077 - accuracy: 0.9702 - val_loss: 0.2989 - val_accuracy: 0.8853\n",
            "Epoch 35/40\n",
            "30/30 [==============================] - 1s 19ms/step - loss: 0.1035 - accuracy: 0.9720 - val_loss: 0.3021 - val_accuracy: 0.8842\n",
            "Epoch 36/40\n",
            "30/30 [==============================] - 1s 19ms/step - loss: 0.0991 - accuracy: 0.9738 - val_loss: 0.3054 - val_accuracy: 0.8842\n",
            "Epoch 37/40\n",
            "30/30 [==============================] - 1s 20ms/step - loss: 0.0954 - accuracy: 0.9747 - val_loss: 0.3090 - val_accuracy: 0.8828\n",
            "Epoch 38/40\n",
            "30/30 [==============================] - 1s 19ms/step - loss: 0.0916 - accuracy: 0.9765 - val_loss: 0.3116 - val_accuracy: 0.8825\n",
            "Epoch 39/40\n",
            "30/30 [==============================] - 1s 19ms/step - loss: 0.0878 - accuracy: 0.9780 - val_loss: 0.3150 - val_accuracy: 0.8822\n",
            "Epoch 40/40\n",
            "30/30 [==============================] - 1s 20ms/step - loss: 0.0847 - accuracy: 0.9793 - val_loss: 0.3192 - val_accuracy: 0.8811\n"
          ]
        }
      ]
    },
    {
      "cell_type": "markdown",
      "metadata": {
        "id": "p4ZdDMAMiIK1"
      },
      "source": [
        "# Model evaluation"
      ]
    },
    {
      "cell_type": "code",
      "metadata": {
        "colab": {
          "base_uri": "https://localhost:8080/"
        },
        "id": "LnuM29WIiMlv",
        "outputId": "46baa82a-411a-47cd-f464-d5faa8cac7c7"
      },
      "source": [
        "results = model.evaluate(test_data,  test_labels, verbose=2)\n",
        "\n",
        "print(results)"
      ],
      "execution_count": 14,
      "outputs": [
        {
          "output_type": "stream",
          "name": "stdout",
          "text": [
            "782/782 - 1s - loss: 0.3402 - accuracy: 0.8709\n",
            "[0.3402010500431061, 0.8708800077438354]\n"
          ]
        }
      ]
    },
    {
      "cell_type": "code",
      "metadata": {
        "colab": {
          "base_uri": "https://localhost:8080/"
        },
        "id": "PtW3F3DciRY4",
        "outputId": "e606c2c2-6217-43d5-a47a-b3fdfeb0284d"
      },
      "source": [
        "history_dict = history.history\n",
        "history_dict.keys()"
      ],
      "execution_count": 15,
      "outputs": [
        {
          "output_type": "execute_result",
          "data": {
            "text/plain": [
              "dict_keys(['loss', 'accuracy', 'val_loss', 'val_accuracy'])"
            ]
          },
          "metadata": {},
          "execution_count": 15
        }
      ]
    },
    {
      "cell_type": "markdown",
      "metadata": {
        "id": "sSI1ppchiX0W"
      },
      "source": [
        "**Loss**"
      ]
    },
    {
      "cell_type": "code",
      "metadata": {
        "colab": {
          "base_uri": "https://localhost:8080/",
          "height": 295
        },
        "id": "FOxfuMh7iZgS",
        "outputId": "d469e332-ba51-4801-f162-4064b3149619"
      },
      "source": [
        "import matplotlib.pyplot as plt\n",
        "\n",
        "acc = history_dict['accuracy']\n",
        "val_acc = history_dict['val_accuracy']\n",
        "loss = history_dict['loss']\n",
        "val_loss = history_dict['val_loss']\n",
        "\n",
        "epochs = range(1, len(acc) + 1)\n",
        "\n",
        "\n",
        "plt.plot(epochs, loss, 'bo', label='Training loss')\n",
        "plt.plot(epochs, val_loss, 'b', label='Validation loss')\n",
        "plt.title('Training and validation loss')\n",
        "plt.xlabel('Epochs')\n",
        "plt.ylabel('Loss')\n",
        "plt.legend()\n",
        "\n",
        "plt.show()"
      ],
      "execution_count": 16,
      "outputs": [
        {
          "output_type": "display_data",
          "data": {
            "image/png": "[encoded data removed]",
            "text/plain": [
              "<Figure size 432x288 with 1 Axes>"
            ]
          },
          "metadata": {
            "needs_background": "light"
          }
        }
      ]
    },
    {
      "cell_type": "markdown",
      "metadata": {
        "id": "Rlrc_yGliaWZ"
      },
      "source": [
        "**Accuracy**"
      ]
    },
    {
      "cell_type": "code",
      "metadata": {
        "colab": {
          "base_uri": "https://localhost:8080/",
          "height": 295
        },
        "id": "mYDwcmaRieqg",
        "outputId": "ab839a5a-69dc-418f-ea12-12860e5341ca"
      },
      "source": [
        "plt.clf()\n",
        "\n",
        "plt.plot(epochs, acc, 'bo', label='Training acc')\n",
        "plt.plot(epochs, val_acc, 'b', label='Validation acc')\n",
        "plt.title('Training and validation accuracy')\n",
        "plt.xlabel('Epochs')\n",
        "plt.ylabel('Accuracy')\n",
        "plt.legend()\n",
        "\n",
        "plt.show()"
      ],
      "execution_count": 17,
      "outputs": [
        {
          "output_type": "display_data",
          "data": {
            "image/png": "[encoded data removed]",
            "text/plain": [
              "<Figure size 432x288 with 1 Axes>"
            ]
          },
          "metadata": {
            "needs_background": "light"
          }
        }
      ]
    }
  ]
}